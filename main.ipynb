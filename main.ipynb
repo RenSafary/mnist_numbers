{
 "cells": [
  {
   "cell_type": "code",
   "execution_count": 123,
   "metadata": {},
   "outputs": [],
   "source": [
    "import torch\n",
    "import torch.nn as nn\n",
    "import torch.optim as optim\n",
    "from torchvision import datasets, transforms\n",
    "from torch.utils.data import DataLoader\n",
    "from PIL import Image"
   ]
  },
  {
   "cell_type": "code",
   "execution_count": 124,
   "metadata": {},
   "outputs": [],
   "source": [
    "transform = transforms.Compose([transforms.ToTensor(), \n",
    "                                transforms.Normalize((0.5,), (0.5,))])\n",
    "\n",
    "trainset_dataset = datasets.MNIST(root=\"./data\", transform=transform, train=True, download=True)\n",
    "test_dataset = datasets.MNIST(root=\"./data\", transform=transform, train=False, download=True)\n",
    "\n",
    "trainset_loader = DataLoader(dataset=trainset_dataset, shuffle=True, batch_size=64)\n",
    "test_loader = DataLoader(dataset=test_dataset, shuffle=False, batch_size=64)"
   ]
  },
  {
   "cell_type": "code",
   "execution_count": 125,
   "metadata": {},
   "outputs": [],
   "source": [
    "class MNISTNeuralNet(nn.Module):\n",
    "    def __init__(self):\n",
    "        super(MNISTNeuralNet, self).__init__()\n",
    "        self.layer1 = nn.Linear(28 * 28, 128)\n",
    "        self.act = nn.ReLU()\n",
    "        self.layer2 = nn.Linear(128, 10)\n",
    "\n",
    "    def forward(self, x):\n",
    "        x = x.view(-1, 28 * 28)\n",
    "        x = self.layer1(x)\n",
    "        x = self.act(x)\n",
    "        x = self.layer2(x)\n",
    "        return x"
   ]
  },
  {
   "cell_type": "code",
   "execution_count": 126,
   "metadata": {},
   "outputs": [],
   "source": [
    "model = MNISTNeuralNet()\n",
    "\n",
    "criterion = nn.CrossEntropyLoss()\n",
    "optimizer = optim.SGD(model.parameters(), lr=0.01)"
   ]
  },
  {
   "cell_type": "code",
   "execution_count": 127,
   "metadata": {},
   "outputs": [
    {
     "name": "stdout",
     "output_type": "stream",
     "text": [
      "Epoch: 1/5, Loss: 0.419\n",
      "Epoch: 2/5, Loss: 0.606\n",
      "Epoch: 3/5, Loss: 0.213\n",
      "Epoch: 4/5, Loss: 0.202\n",
      "Epoch: 5/5, Loss: 0.140\n"
     ]
    }
   ],
   "source": [
    "epochs = 5\n",
    "\n",
    "for epoch in range(epochs):\n",
    "    model.train()\n",
    "    for images, labels in trainset_loader:\n",
    "        optimizer.zero_grad()\n",
    "        prediction = model(images)\n",
    "        loss = criterion(prediction, labels)\n",
    "        loss.backward()\n",
    "        optimizer.step()\n",
    "    \n",
    "    print(f\"Epoch: {epoch + 1}/{epochs}, Loss: {loss.item():.3f}\")"
   ]
  },
  {
   "cell_type": "code",
   "execution_count": 128,
   "metadata": {},
   "outputs": [
    {
     "name": "stdout",
     "output_type": "stream",
     "text": [
      "Test Accuracy: 92.49%\n"
     ]
    }
   ],
   "source": [
    "model.eval()\n",
    "\n",
    "correct, total = 0, 0\n",
    "\n",
    "with torch.no_grad():\n",
    "    for images, labels in test_loader:\n",
    "        prediction = model(images)\n",
    "        _, predicted = torch.max(prediction.data, 1)\n",
    "        total += labels.size(0)\n",
    "        correct += (predicted == labels).sum().item()\n",
    "\n",
    "accuracy = correct / total\n",
    "print(f\"Test Accuracy: {accuracy * 100:.2f}%\")"
   ]
  },
  {
   "cell_type": "code",
   "execution_count": 142,
   "metadata": {},
   "outputs": [
    {
     "name": "stdout",
     "output_type": "stream",
     "text": [
      "Predicted class: 4\n"
     ]
    }
   ],
   "source": [
    "image_path = \"./num/4_1.png\"\n",
    "image = Image.open(image_path)\n",
    "\n",
    "transform = transforms.Compose([transforms.ToTensor(), transforms.Normalize((0.5,),(0.5,)), transforms.Resize((28, 28))])\n",
    "image_tensor = transform(image).unsqueeze(0)\n",
    "\n",
    "\"\"\"image, label = test_dataset[1338]\n",
    "image_tensor = image\"\"\"\n",
    "\n",
    "model.eval()\n",
    "prediction = model(image_tensor)\n",
    "predicted_class = torch.argmax(prediction).item()\n",
    "\n",
    "print(f'Predicted class: {predicted_class}')"
   ]
  },
  {
   "cell_type": "code",
   "execution_count": 146,
   "metadata": {},
   "outputs": [
    {
     "data": {
      "image/png": "[encoded data removed]",
      "text/plain": [
       "<Figure size 640x480 with 1 Axes>"
      ]
     },
     "metadata": {},
     "output_type": "display_data"
    }
   ],
   "source": [
    "import matplotlib.pyplot as plt\n",
    "\n",
    "image, label = test_dataset[1338]\n",
    "image = transforms.ToPILImage()(image)\n",
    "plt.imshow(image, cmap='gray')\n",
    "plt.title(f\"{label}\")\n",
    "plt.show()"
   ]
  },
  {
   "cell_type": "code",
   "execution_count": 135,
   "metadata": {},
   "outputs": [
    {
     "data": {
      "image/png": "[encoded data removed]",
      "text/plain": [
       "<Figure size 640x480 with 1 Axes>"
      ]
     },
     "metadata": {},
     "output_type": "display_data"
    }
   ],
   "source": [
    "image = \"./num/3.png\"\n",
    "image = Image.open(image)\n",
    "\n",
    "transform = transforms.Compose([transforms.ToTensor(), transforms.Resize((28, 28)), transforms.Normalize((0.5,),(0.5))])\n",
    "image_tensor = transform(image)\n",
    "\n",
    "plt.imshow(image, cmap=\"gray\")\n",
    "plt.title(\"5\")\n",
    "plt.show()"
   ]
  }
 ],
 "metadata": {
  "kernelspec": {
   "display_name": "Python 3",
   "language": "python",
   "name": "python3"
  },
  "language_info": {
   "codemirror_mode": {
    "name": "ipython",
    "version": 3
   },
   "file_extension": ".py",
   "mimetype": "text/x-python",
   "name": "python",
   "nbconvert_exporter": "python",
   "pygments_lexer": "ipython3",
   "version": "3.11.1"
  }
 },
 "nbformat": 4,
 "nbformat_minor": 2
}
